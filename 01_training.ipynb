{
  "nbformat": 4,
  "nbformat_minor": 0,
  "metadata": {
    "colab": {
      "name": "01_training.ipynb",
      "provenance": [],
      "collapsed_sections": [],
      "machine_shape": "hm",
      "include_colab_link": true
    },
    "kernelspec": {
      "display_name": "Python 3",
      "language": "python",
      "name": "python3"
    },
    "language_info": {
      "codemirror_mode": {
        "name": "ipython",
        "version": 3
      },
      "file_extension": ".py",
      "mimetype": "text/x-python",
      "name": "python",
      "nbconvert_exporter": "python",
      "pygments_lexer": "ipython3",
      "version": "3.7.9"
    },
    "accelerator": "GPU"
  },
  "cells": [
    {
      "cell_type": "markdown",
      "metadata": {
        "id": "view-in-github",
        "colab_type": "text"
      },
      "source": [
        "<a href=\"https://colab.research.google.com/github/achiral/styleGAN2_pytorch/blob/main/01_training.ipynb\" target=\"_parent\"><img src=\"https://colab.research.google.com/assets/colab-badge.svg\" alt=\"Open In Colab\"/></a>"
      ]
    },
    {
      "cell_type": "markdown",
      "metadata": {
        "id": "pTF5VmNcIfr5"
      },
      "source": [
        "# StyleGAN2"
      ]
    },
    {
      "cell_type": "markdown",
      "source": [
        "# GPUガチャ  \n",
        "Tesla V100 > Tesla P100 > Tesla T4"
      ],
      "metadata": {
        "id": "HP1QpLVs7ses"
      }
    },
    {
      "cell_type": "code",
      "metadata": {
        "id": "u2ee3z-a-tjW",
        "colab": {
          "base_uri": "https://localhost:8080/"
        },
        "outputId": "064dfd78-88c3-4e5b-8a46-5e24dbf33b30"
      },
      "source": [
        "# GPU情報の確認\n",
        "!nvidia-smi"
      ],
      "execution_count": null,
      "outputs": [
        {
          "output_type": "stream",
          "text": [
            "Sat Jun 19 16:12:17 2021       \n",
            "+-----------------------------------------------------------------------------+\n",
            "| NVIDIA-SMI 465.27       Driver Version: 460.32.03    CUDA Version: 11.2     |\n",
            "|-------------------------------+----------------------+----------------------+\n",
            "| GPU  Name        Persistence-M| Bus-Id        Disp.A | Volatile Uncorr. ECC |\n",
            "| Fan  Temp  Perf  Pwr:Usage/Cap|         Memory-Usage | GPU-Util  Compute M. |\n",
            "|                               |                      |               MIG M. |\n",
            "|===============================+======================+======================|\n",
            "|   0  Tesla T4            Off  | 00000000:00:04.0 Off |                    0 |\n",
            "| N/A   43C    P8     9W /  70W |      0MiB / 15109MiB |      0%      Default |\n",
            "|                               |                      |                  N/A |\n",
            "+-------------------------------+----------------------+----------------------+\n",
            "                                                                               \n",
            "+-----------------------------------------------------------------------------+\n",
            "| Processes:                                                                  |\n",
            "|  GPU   GI   CI        PID   Type   Process name                  GPU Memory |\n",
            "|        ID   ID                                                   Usage      |\n",
            "|=============================================================================|\n",
            "|  No running processes found                                                 |\n",
            "+-----------------------------------------------------------------------------+\n"
          ],
          "name": "stdout"
        }
      ]
    },
    {
      "cell_type": "markdown",
      "source": [
        "# Copy dataset from Google drive  \n",
        "### datasetファイルの展開に少し時間がかかります。  \n",
        "### datasetが完全に展開されるまで待ってから学習を開始すると、「学習ファイルがありません」というエラーを回避できます。"
      ],
      "metadata": {
        "id": "UwgZhoQD8vZt"
      }
    },
    {
      "cell_type": "code",
      "source": [
        "# google driveからcolaboにファイルをコピーするメソッド\n",
        "import requests\n",
        "\n",
        "def download_file_from_google_drive(id, destination):\n",
        "    print('---- download_file_from_google_drive start ----')\n",
        "    URL = \"https://docs.google.com/uc?export=download\"\n",
        "\n",
        "    try:\n",
        "        session = requests.Session()\n",
        "\n",
        "        response = session.get(URL, params = { 'id' : id }, stream = True)\n",
        "        print('response.status_code: {}'.format(response.status_code))\n",
        "        print('response.headers: {}'.format(response.headers))\n",
        "\n",
        "        token = get_confirm_token(response)\n",
        "        print('token'.format(token))\n",
        "\n",
        "        if token:\n",
        "            print(token)\n",
        "            params = { 'id' : id, 'confirm' : token }\n",
        "            response = session.get(URL, params = params, stream = True)\n",
        "\n",
        "        save_response_content(response, destination)\n",
        "    except Exception as e:\n",
        "        print(e)\n",
        "\n",
        "\n",
        "def get_confirm_token(response):\n",
        "    for key, value in response.cookies.items():\n",
        "        print('key: {}'.format(key))\n",
        "        print('value: {}'.format(value))\n",
        "       \n",
        "        if key.startswith('download_warning'):\n",
        "            return value\n",
        "            \n",
        "        if key == 'NID':\n",
        "            print('NID')\n",
        "            token = value.split('=')\n",
        "            print(token)\n",
        "            return token[1]\n",
        "\n",
        "    return None\n",
        "\n",
        "def save_response_content(response, destination):\n",
        "    CHUNK_SIZE = 32768\n",
        "\n",
        "    with open(destination, \"wb\") as f:\n",
        "        for chunk in response.iter_content(CHUNK_SIZE):\n",
        "            if chunk: # filter out keep-alive new chunks\n",
        "                f.write(chunk)"
      ],
      "metadata": {
        "id": "pfV_UM4l8qFK"
      },
      "execution_count": null,
      "outputs": []
    },
    {
      "cell_type": "code",
      "source": [
        "# 実行環境のrootディレクトリの確認\n",
        "%cd /content/\n",
        "!ls -lah"
      ],
      "metadata": {
        "id": "l1SutZ0u8xze"
      },
      "execution_count": null,
      "outputs": []
    },
    {
      "cell_type": "code",
      "source": [
        "# ソースコードのダウンロード\n",
        "# %%time\n",
        "# %cd /content/\n",
        "# !rm -fr gan_sample\n",
        "# !git clone https://github.com/ayukat1016/gan_sample.git"
      ],
      "metadata": {
        "id": "Sh-IMZhzDucY"
      },
      "execution_count": null,
      "outputs": []
    },
    {
      "cell_type": "code",
      "metadata": {
        "id": "17GZl7VR9ZqH"
      },
      "source": [
        "from google.colab import drive\n",
        "drive.mount('/content/gdrive')\n",
        "\n",
        "# マウントしたGoogle Driveの情報\n",
        "!ls gdrive -lah"
      ],
      "execution_count": null,
      "outputs": []
    },
    {
      "cell_type": "code",
      "source": [
        "# datasetを配置するディレクトリを作成\n",
        "!mkdir ./dataset\n",
        "!mkdir /content/output"
      ],
      "metadata": {
        "id": "xj95vfIl9Ldp"
      },
      "execution_count": null,
      "outputs": []
    },
    {
      "cell_type": "code",
      "source": [
        "# endless_summer datasetのダウンロード\n",
        "# ★★★★ 7GBあるのでダウンロードに時間がかかる ★★★★\n",
        "# https://drive.google.com/file/d/1LM4FtUltzS45PuFyfuSp3I8QdTD8Cu0F/view?usp=sharing\n",
        "# file_id = '1LM4FtUltzS45PuFyfuSp3I8QdTD8Cu0F'\n",
        "# destination = './dataset/endless_summer.zip'\n",
        "# download_file_from_google_drive(file_id, destination)"
      ],
      "metadata": {
        "id": "-lmmQt8wDiO0"
      },
      "execution_count": null,
      "outputs": []
    },
    {
      "cell_type": "code",
      "source": [
        "# %cd /content/gdrive/MyDrive/'Colab Notebooks'/lightweight-gan/results\n",
        "# # フォルダを zip 圧縮する\n",
        "# !zip -r ./inner-generated-100.zip ./inner-generated-100\n",
        "\n",
        "\n",
        "# # 圧縮した zip ファイルをダウンロードする\n",
        "# # from google.colab import files\n",
        "# # files.download(\"./inner-generated-100.zip\")\n",
        "\n",
        "# %cd /content\n",
        "# %pwd"
      ],
      "metadata": {
        "id": "MoAG55q-9RKv"
      },
      "execution_count": null,
      "outputs": []
    },
    {
      "cell_type": "code",
      "source": [
        "# dataset(zipでgdriveに格納)をColabにコピー\n",
        "# datasetのサイズによって時間がかかる\n",
        "%%time\n",
        "# !cp \"./gdrive/MyDrive/dataset/endless_summer.zip\" \"./dataset\"\n",
        "# !cp \"./gdrive/MyDrive/dataset/amime_128_mini.zip\" \"./dataset\"\n",
        "# !cp \"./gdrive/MyDrive/dataset/inner_512.zip\" \"./dataset\"\n",
        "# !cp \"./gdrive/MyDrive/dataset/inner2_512.zip\" \"./dataset\"\n",
        "!cp \"./gdrive/MyDrive/dataset/inner3_512.zip\" \"./dataset\"\n",
        "!cp \"./gdrive/MyDrive/dataset/inner3_2048.zip\" \"./dataset\"\n",
        "!cp \"./gdrive/MyDrive/dataset/inner3_2048alpha.zip\" \"./dataset\"\n",
        "!cp \"./gdrive/MyDrive/dataset/skin_512.zip\" \"./dataset\"\n",
        "!cp \"./gdrive/MyDrive/dataset/onepiece_512.zip\" \"./dataset\"\n",
        "# !cp \"/content/gdrive/MyDrive/Colab Notebooks/lightweight-gan/results/inner-generated-100.zip\" \"./dataset\""
      ],
      "metadata": {
        "id": "XEtnD0bu9ZC5"
      },
      "execution_count": null,
      "outputs": []
    },
    {
      "cell_type": "code",
      "source": [
        "# コピー(またはダウンロード)したdataset解凍\n",
        "%%time\n",
        "# !unzip ./dataset/endless_summer.zip -d ./dataset\n",
        "# !unzip ./dataset/amime_128_mini.zip -d ./dataset\n",
        "# !unzip ./dataset/inner_512.zip -d ./dataset\n",
        "# !unzip ./dataset/inner2_512.zip -d ./dataset\n",
        "!unzip ./dataset/inner3_512.zip -d ./dataset\n",
        "!unzip ./dataset/inner3_2048.zip -d ./dataset\n",
        "!unzip ./dataset/inner3_2048alpha.zip -d ./dataset\n",
        "!unzip ./dataset/skin_512.zip -d ./dataset\n",
        "!unzip ./dataset/onepiece_512.zip -d ./dataset\n",
        "# !unzip ./dataset/inner-generated-100.zip -d ./dataset\n",
        "\n",
        "# データ件数の確認\n",
        "!find dataset/* -type f | wc -l"
      ],
      "metadata": {
        "id": "HeC8helk9fH5"
      },
      "execution_count": null,
      "outputs": []
    },
    {
      "cell_type": "code",
      "source": [
        "# 作業ディレクトリの移動\n",
        "# %cd /content/gdrive/MyDrive/CV_Hands-on/06_Day3-2/02_StyleGAN\n",
        "%cd /content/gdrive/MyDrive/Colab Notebooks/gan_sample/chapter7\n",
        "%pwd\n",
        "%ls -al"
      ],
      "metadata": {
        "id": "wf_93ROa9wvj"
      },
      "execution_count": null,
      "outputs": []
    },
    {
      "cell_type": "markdown",
      "source": [
        " # Training"
      ],
      "metadata": {
        "id": "yiBWs7qy8dSR"
      }
    },
    {
      "cell_type": "code",
      "metadata": {
        "id": "tYCG5ZZW5Ls0"
      },
      "source": [
        "# 学習\n",
        "# ★★★★★★★★★★★★★★★★★★★★★★★★★★★★★★★★★★★★★★★★★★★★★★★★★\n",
        "# ★★★★★　長時間の学習を行うとGoogle Driveの容量が足りなくなる事があるので注意!!!!!!　★★★★★\n",
        "# ★★★★★★★★★★★★★★★★★★★★★★★★★★★★★★★★★★★★★★★★★★★★★★★★★\n",
        "# Google Driveの容量が少ない方は事前に容量を購入するか、下記のsave intervalの値を大きくしてください。\n",
        "# --save_model_interval=32 \\\n",
        "# --save_metrics_interval=2 \\\n",
        "# --save_images_tensorboard_interval=8 \\\n",
        "# --save_images_interval=32 \\\n",
        "# 特に--model_pathに保存されるモデルファイルは1ファイルで300MBと大きいので、古いモデルファイルは消すようにしてください。\n",
        "\n",
        "# それっぽい画像が生成されるまで、2〜3日、精度の良い画像が生成されるには1週間以上かかるかもしれません。\n",
        "# 学習は--model_pathオプションに格納されている一番新しいモデルファイルを使用して継続学習を行います。\n",
        "# --model_pathで指定したディレクトリにモデルファイルがない場合ははじめから学習を行います。\n",
        "# fidスコア算出のためにinceptionの重みファイルを初回にダウンロードするので、学習が開始するまで時間(5分〜10分)がかかります。\n",
        "\n",
        "# --model_pathに学習したモデルの保存先を指定します。\n",
        "# --data_pathに学習するdata setのディレクトリを指定します。\n",
        "# --resultsに学習した結果を保存するディレクトリを指定します。\n",
        "# --cache_pathに一時ファイルの格納先を指定します。\n",
        "# --tensorboad_pathにTensoboardのログファイルを保存するディレクトリを指定します。\n",
        "# --save_model_interval: モデルを保存する間隔を指定します。32を指定すると32回のループ回数毎にモデルを保存します。\n",
        "# --save_metrics_interval: 指標をTensorboardに出力する間隔を指定します。\n",
        "# --save_images_tensorboard_interval: 生成した画像をTensorboadに出力する間隔を指定します。\n",
        "# --save_images_interval: 生成した画像をファイルとして保存する間隔を指定します。\n",
        "# --generator_train_num: generatorが連続して学習する回数を指定します。とりあえず4で良いと思います。\n",
        "# --discriminator_train_num: discriminatorが連続して学習する回数を指定します。とりあえず4で良いと思います。\n",
        "# --reverse_decay: 1のままで\n",
        "# --g_reg_interval: generatorの正則処理を行う間隔を指定します。とりあえず4で良いと思います。\n",
        "# --d_reg_interval: discriminatorの正則処理を行う間隔を指定します。とりあえず16で良いと思います。\n",
        "# --fid_score_interval: fidスコアを算出する間隔2048をしてします。fidのスコアの算出は非常に時間がかかるので、実行したくない場合は大きな値32000を指定してください。\n",
        "\n",
        "  !python ./stylegan2_pytorch/training.py \\\n",
        "--batch_size=                           4 \\\n",
        "--resolution=                        2048 \\\n",
        "--max_loop_num=                     32000 \\\n",
        "--model_path=              ./models/inner \\\n",
        "--data_path= /content/dataset/inner3_2048 \\\n",
        "--results=                ./results/inner \\\n",
        "--cache_path=                     ./cache \\\n",
        "--tensorboard_path=                ./logs \\\n",
        "--save_model_interval=                128 \\\n",
        "--save_metrics_interval=            32000 \\\n",
        "--save_images_tensorboard_interval= 32000 \\\n",
        "--save_images_interval=               128 \\\n",
        "--generator_train_num=                  4 \\\n",
        "--discriminator_train_num=              4 \\\n",
        "--reverse_decay=                        1 \\\n",
        "--g_reg_interval=                       4 \\\n",
        "--d_reg_interval=                      16 \\\n",
        "--fid_score_interval=               32000"
      ],
      "execution_count": null,
      "outputs": []
    },
    {
      "cell_type": "code",
      "metadata": {
        "id": "zWox7tdcHQw9"
      },
      "source": [
        ""
      ],
      "execution_count": null,
      "outputs": []
    }
  ]
}